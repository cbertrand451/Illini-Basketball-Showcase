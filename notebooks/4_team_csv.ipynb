{
 "cells": [
  {
   "cell_type": "code",
   "execution_count": 19,
   "id": "b81b9dd5",
   "metadata": {},
   "outputs": [],
   "source": [
    "import pandas as pd\n",
    "import matplotlib.pyplot as plt\n",
    "import plotly.express as px"
   ]
  },
  {
   "cell_type": "markdown",
   "id": "269b78de",
   "metadata": {},
   "source": [
    "# Creating the Season CSV Information\n",
    "\n",
    "Using the CSV from scraping stats, and filtering it to display info based on the statistic the user chooses"
   ]
  },
  {
   "cell_type": "code",
   "execution_count": 24,
   "id": "0e12f473",
   "metadata": {},
   "outputs": [
    {
     "data": {
      "text/html": [
       "<div>\n",
       "<style scoped>\n",
       "    .dataframe tbody tr th:only-of-type {\n",
       "        vertical-align: middle;\n",
       "    }\n",
       "\n",
       "    .dataframe tbody tr th {\n",
       "        vertical-align: top;\n",
       "    }\n",
       "\n",
       "    .dataframe thead th {\n",
       "        text-align: right;\n",
       "    }\n",
       "</style>\n",
       "<table border=\"1\" class=\"dataframe\">\n",
       "  <thead>\n",
       "    <tr style=\"text-align: right;\">\n",
       "      <th></th>\n",
       "      <th>Unnamed: 0</th>\n",
       "      <th>Team</th>\n",
       "      <th>Total Points</th>\n",
       "      <th>Points Per Game</th>\n",
       "      <th>Scoring Margin</th>\n",
       "      <th>FG: Made-Attempted</th>\n",
       "      <th>FG: Percentage</th>\n",
       "      <th>FG: Per Game</th>\n",
       "      <th>3PT: Made-Attempted</th>\n",
       "      <th>3PT: Percentage</th>\n",
       "      <th>...</th>\n",
       "      <th>Blocks Per Game</th>\n",
       "      <th>Total Attendance</th>\n",
       "      <th>Attendance Per Game</th>\n",
       "      <th>Season</th>\n",
       "      <th>FG Made</th>\n",
       "      <th>FG Attempted</th>\n",
       "      <th>3PT Made</th>\n",
       "      <th>3PT Attempted</th>\n",
       "      <th>FT Made</th>\n",
       "      <th>FT Attempted</th>\n",
       "    </tr>\n",
       "  </thead>\n",
       "  <tbody>\n",
       "    <tr>\n",
       "      <th>0</th>\n",
       "      <td>0</td>\n",
       "      <td>Illinois</td>\n",
       "      <td>2614</td>\n",
       "      <td>74.7</td>\n",
       "      <td>7.0</td>\n",
       "      <td>1040-2159</td>\n",
       "      <td>0.482</td>\n",
       "      <td>29.7</td>\n",
       "      <td>0-0</td>\n",
       "      <td>NaN</td>\n",
       "      <td>...</td>\n",
       "      <td>3.4</td>\n",
       "      <td>257012</td>\n",
       "      <td>19-13,527</td>\n",
       "      <td>1979-80</td>\n",
       "      <td>1040</td>\n",
       "      <td>2159</td>\n",
       "      <td>0</td>\n",
       "      <td>0</td>\n",
       "      <td>534</td>\n",
       "      <td>739</td>\n",
       "    </tr>\n",
       "    <tr>\n",
       "      <th>1</th>\n",
       "      <td>1</td>\n",
       "      <td>Opponents</td>\n",
       "      <td>2369</td>\n",
       "      <td>67.7</td>\n",
       "      <td>--</td>\n",
       "      <td>909-2080</td>\n",
       "      <td>0.437</td>\n",
       "      <td>26.0</td>\n",
       "      <td>0-0</td>\n",
       "      <td>NaN</td>\n",
       "      <td>...</td>\n",
       "      <td>2.4</td>\n",
       "      <td>134748</td>\n",
       "      <td>11-12,250</td>\n",
       "      <td>1979-80</td>\n",
       "      <td>909</td>\n",
       "      <td>2080</td>\n",
       "      <td>0</td>\n",
       "      <td>0</td>\n",
       "      <td>551</td>\n",
       "      <td>780</td>\n",
       "    </tr>\n",
       "    <tr>\n",
       "      <th>2</th>\n",
       "      <td>0</td>\n",
       "      <td>Illinois</td>\n",
       "      <td>2254</td>\n",
       "      <td>77.7</td>\n",
       "      <td>10.6</td>\n",
       "      <td>916-1799</td>\n",
       "      <td>0.509</td>\n",
       "      <td>31.6</td>\n",
       "      <td>0-0</td>\n",
       "      <td>NaN</td>\n",
       "      <td>...</td>\n",
       "      <td>4.1</td>\n",
       "      <td>203100</td>\n",
       "      <td>14-14,507</td>\n",
       "      <td>1980-81</td>\n",
       "      <td>916</td>\n",
       "      <td>1799</td>\n",
       "      <td>0</td>\n",
       "      <td>0</td>\n",
       "      <td>422</td>\n",
       "      <td>577</td>\n",
       "    </tr>\n",
       "    <tr>\n",
       "      <th>3</th>\n",
       "      <td>1</td>\n",
       "      <td>Opponents</td>\n",
       "      <td>1948</td>\n",
       "      <td>67.2</td>\n",
       "      <td>--</td>\n",
       "      <td>755-1724</td>\n",
       "      <td>0.438</td>\n",
       "      <td>26.0</td>\n",
       "      <td>0-0</td>\n",
       "      <td>NaN</td>\n",
       "      <td>...</td>\n",
       "      <td>2.2</td>\n",
       "      <td>133902</td>\n",
       "      <td>11-12,173</td>\n",
       "      <td>1980-81</td>\n",
       "      <td>755</td>\n",
       "      <td>1724</td>\n",
       "      <td>0</td>\n",
       "      <td>0</td>\n",
       "      <td>438</td>\n",
       "      <td>607</td>\n",
       "    </tr>\n",
       "    <tr>\n",
       "      <th>4</th>\n",
       "      <td>0</td>\n",
       "      <td>Illinois</td>\n",
       "      <td>1914</td>\n",
       "      <td>66.0</td>\n",
       "      <td>6.8</td>\n",
       "      <td>768-1620</td>\n",
       "      <td>0.474</td>\n",
       "      <td>26.5</td>\n",
       "      <td>0-0</td>\n",
       "      <td>NaN</td>\n",
       "      <td>...</td>\n",
       "      <td>3.9</td>\n",
       "      <td>230651</td>\n",
       "      <td>16-14,416</td>\n",
       "      <td>1981-82</td>\n",
       "      <td>768</td>\n",
       "      <td>1620</td>\n",
       "      <td>0</td>\n",
       "      <td>0</td>\n",
       "      <td>378</td>\n",
       "      <td>533</td>\n",
       "    </tr>\n",
       "    <tr>\n",
       "      <th>...</th>\n",
       "      <td>...</td>\n",
       "      <td>...</td>\n",
       "      <td>...</td>\n",
       "      <td>...</td>\n",
       "      <td>...</td>\n",
       "      <td>...</td>\n",
       "      <td>...</td>\n",
       "      <td>...</td>\n",
       "      <td>...</td>\n",
       "      <td>...</td>\n",
       "      <td>...</td>\n",
       "      <td>...</td>\n",
       "      <td>...</td>\n",
       "      <td>...</td>\n",
       "      <td>...</td>\n",
       "      <td>...</td>\n",
       "      <td>...</td>\n",
       "      <td>...</td>\n",
       "      <td>...</td>\n",
       "      <td>...</td>\n",
       "      <td>...</td>\n",
       "    </tr>\n",
       "    <tr>\n",
       "      <th>87</th>\n",
       "      <td>1</td>\n",
       "      <td>Opponents</td>\n",
       "      <td>2216</td>\n",
       "      <td>67.2</td>\n",
       "      <td>--</td>\n",
       "      <td>804-1934</td>\n",
       "      <td>0.416</td>\n",
       "      <td>24.4</td>\n",
       "      <td>197-589</td>\n",
       "      <td>0.334</td>\n",
       "      <td>...</td>\n",
       "      <td>2.8</td>\n",
       "      <td>131783</td>\n",
       "      <td>10-13,178</td>\n",
       "      <td>2022-23</td>\n",
       "      <td>804</td>\n",
       "      <td>1934</td>\n",
       "      <td>197</td>\n",
       "      <td>589</td>\n",
       "      <td>411</td>\n",
       "      <td>583</td>\n",
       "    </tr>\n",
       "    <tr>\n",
       "      <th>88</th>\n",
       "      <td>0</td>\n",
       "      <td>Illinois</td>\n",
       "      <td>3168</td>\n",
       "      <td>83.4</td>\n",
       "      <td>10.0</td>\n",
       "      <td>1104-2356</td>\n",
       "      <td>0.469</td>\n",
       "      <td>29.1</td>\n",
       "      <td>317-908</td>\n",
       "      <td>0.349</td>\n",
       "      <td>...</td>\n",
       "      <td>3.8</td>\n",
       "      <td>269826</td>\n",
       "      <td>18-14,990</td>\n",
       "      <td>2023-24</td>\n",
       "      <td>1104</td>\n",
       "      <td>2356</td>\n",
       "      <td>317</td>\n",
       "      <td>908</td>\n",
       "      <td>643</td>\n",
       "      <td>874</td>\n",
       "    </tr>\n",
       "    <tr>\n",
       "      <th>89</th>\n",
       "      <td>1</td>\n",
       "      <td>Opponents</td>\n",
       "      <td>2787</td>\n",
       "      <td>73.3</td>\n",
       "      <td>--</td>\n",
       "      <td>1044-2418</td>\n",
       "      <td>0.432</td>\n",
       "      <td>27.5</td>\n",
       "      <td>233-684</td>\n",
       "      <td>0.341</td>\n",
       "      <td>...</td>\n",
       "      <td>3.2</td>\n",
       "      <td>143763</td>\n",
       "      <td>11-13,069</td>\n",
       "      <td>2023-24</td>\n",
       "      <td>1044</td>\n",
       "      <td>2418</td>\n",
       "      <td>233</td>\n",
       "      <td>684</td>\n",
       "      <td>466</td>\n",
       "      <td>646</td>\n",
       "    </tr>\n",
       "    <tr>\n",
       "      <th>90</th>\n",
       "      <td>0</td>\n",
       "      <td>Illinois</td>\n",
       "      <td>2927</td>\n",
       "      <td>83.6</td>\n",
       "      <td>8.8</td>\n",
       "      <td>1006-2233</td>\n",
       "      <td>0.451</td>\n",
       "      <td>28.7</td>\n",
       "      <td>330-1054</td>\n",
       "      <td>0.313</td>\n",
       "      <td>...</td>\n",
       "      <td>4.2</td>\n",
       "      <td>256543</td>\n",
       "      <td>17-15,091</td>\n",
       "      <td>2024-25</td>\n",
       "      <td>1006</td>\n",
       "      <td>2233</td>\n",
       "      <td>330</td>\n",
       "      <td>1054</td>\n",
       "      <td>585</td>\n",
       "      <td>768</td>\n",
       "    </tr>\n",
       "    <tr>\n",
       "      <th>91</th>\n",
       "      <td>1</td>\n",
       "      <td>Opponents</td>\n",
       "      <td>2619</td>\n",
       "      <td>74.8</td>\n",
       "      <td>--</td>\n",
       "      <td>972-2298</td>\n",
       "      <td>0.423</td>\n",
       "      <td>27.8</td>\n",
       "      <td>236-702</td>\n",
       "      <td>0.336</td>\n",
       "      <td>...</td>\n",
       "      <td>2.9</td>\n",
       "      <td>115085</td>\n",
       "      <td>10-11,509</td>\n",
       "      <td>2024-25</td>\n",
       "      <td>972</td>\n",
       "      <td>2298</td>\n",
       "      <td>236</td>\n",
       "      <td>702</td>\n",
       "      <td>439</td>\n",
       "      <td>619</td>\n",
       "    </tr>\n",
       "  </tbody>\n",
       "</table>\n",
       "<p>92 rows × 37 columns</p>\n",
       "</div>"
      ],
      "text/plain": [
       "    Unnamed: 0       Team  Total Points  Points Per Game Scoring Margin  \\\n",
       "0            0   Illinois          2614             74.7            7.0   \n",
       "1            1  Opponents          2369             67.7             --   \n",
       "2            0   Illinois          2254             77.7           10.6   \n",
       "3            1  Opponents          1948             67.2             --   \n",
       "4            0   Illinois          1914             66.0            6.8   \n",
       "..         ...        ...           ...              ...            ...   \n",
       "87           1  Opponents          2216             67.2             --   \n",
       "88           0   Illinois          3168             83.4           10.0   \n",
       "89           1  Opponents          2787             73.3             --   \n",
       "90           0   Illinois          2927             83.6            8.8   \n",
       "91           1  Opponents          2619             74.8             --   \n",
       "\n",
       "   FG: Made-Attempted  FG: Percentage  FG: Per Game 3PT: Made-Attempted  \\\n",
       "0           1040-2159           0.482          29.7                 0-0   \n",
       "1            909-2080           0.437          26.0                 0-0   \n",
       "2            916-1799           0.509          31.6                 0-0   \n",
       "3            755-1724           0.438          26.0                 0-0   \n",
       "4            768-1620           0.474          26.5                 0-0   \n",
       "..                ...             ...           ...                 ...   \n",
       "87           804-1934           0.416          24.4             197-589   \n",
       "88          1104-2356           0.469          29.1             317-908   \n",
       "89          1044-2418           0.432          27.5             233-684   \n",
       "90          1006-2233           0.451          28.7            330-1054   \n",
       "91           972-2298           0.423          27.8             236-702   \n",
       "\n",
       "    3PT: Percentage  ...  Blocks Per Game Total Attendance  \\\n",
       "0               NaN  ...              3.4           257012   \n",
       "1               NaN  ...              2.4           134748   \n",
       "2               NaN  ...              4.1           203100   \n",
       "3               NaN  ...              2.2           133902   \n",
       "4               NaN  ...              3.9           230651   \n",
       "..              ...  ...              ...              ...   \n",
       "87            0.334  ...              2.8           131783   \n",
       "88            0.349  ...              3.8           269826   \n",
       "89            0.341  ...              3.2           143763   \n",
       "90            0.313  ...              4.2           256543   \n",
       "91            0.336  ...              2.9           115085   \n",
       "\n",
       "    Attendance Per Game   Season  FG Made  FG Attempted 3PT Made  \\\n",
       "0             19-13,527  1979-80     1040          2159        0   \n",
       "1             11-12,250  1979-80      909          2080        0   \n",
       "2             14-14,507  1980-81      916          1799        0   \n",
       "3             11-12,173  1980-81      755          1724        0   \n",
       "4             16-14,416  1981-82      768          1620        0   \n",
       "..                  ...      ...      ...           ...      ...   \n",
       "87            10-13,178  2022-23      804          1934      197   \n",
       "88            18-14,990  2023-24     1104          2356      317   \n",
       "89            11-13,069  2023-24     1044          2418      233   \n",
       "90            17-15,091  2024-25     1006          2233      330   \n",
       "91            10-11,509  2024-25      972          2298      236   \n",
       "\n",
       "    3PT Attempted  FT Made  FT Attempted  \n",
       "0               0      534           739  \n",
       "1               0      551           780  \n",
       "2               0      422           577  \n",
       "3               0      438           607  \n",
       "4               0      378           533  \n",
       "..            ...      ...           ...  \n",
       "87            589      411           583  \n",
       "88            908      643           874  \n",
       "89            684      466           646  \n",
       "90           1054      585           768  \n",
       "91            702      439           619  \n",
       "\n",
       "[92 rows x 37 columns]"
      ]
     },
     "execution_count": 24,
     "metadata": {},
     "output_type": "execute_result"
    }
   ],
   "source": [
    "season_stats = pd.read_csv('data/processed/season_stats.csv')\n",
    "\n",
    "season_stats[['FG Made', 'FG Attempted']] = season_stats['FG: Made-Attempted'].str.split('-', n=1, expand=True)\n",
    "season_stats[['3PT Made', '3PT Attempted']] = season_stats['3PT: Made-Attempted'].str.split('-', n=1, expand=True)\n",
    "season_stats[['FT Made', 'FT Attempted']] = season_stats['FT: Made-Attempted'].str.split('-', n=1, expand=True)\n",
    "\n",
    "season_stats\n",
    "# Remove Fg: Made-Attempted when defining columns\n"
   ]
  },
  {
   "cell_type": "code",
   "execution_count": 22,
   "id": "99b0d2c7",
   "metadata": {},
   "outputs": [
    {
     "name": "stdout",
     "output_type": "stream",
     "text": [
      "Index(['Unnamed: 0', 'Team', 'Total Points', 'Points Per Game',\n",
      "       'Scoring Margin', 'FG: Made-Attempted', 'FG: Percentage',\n",
      "       'FG: Per Game', '3PT: Made-Attempted', '3PT: Percentage',\n",
      "       '3PT: Per Game', 'FT: Made-Attempted', 'FT: Percentage', 'FT: Per Game',\n",
      "       'Total Rebounds', 'Rebounds Per Game', 'Rebound Margin',\n",
      "       'Total Assists', 'Assists Per Game', 'Total Turnovers',\n",
      "       'Turnovers Per Game', 'Turnovers Margin', 'Assist/Turnover Ratio',\n",
      "       'Points Off Turnovers', 'Total Steals', 'Steals Per Game',\n",
      "       'Total Blocks', 'Blocks Per Game', 'Total Attendance',\n",
      "       'Attendance Per Game', 'Season', 'FG Made', 'FG Attempted', '3PT Made',\n",
      "       '3PT Attempted', 'FT Made', 'FT Attempted'],\n",
      "      dtype='object')\n"
     ]
    }
   ],
   "source": [
    "print(season_stats.columns)\n",
    "\n",
    "season_stats_uiuc = season_stats[season_stats['Team'] == 'Illinois']\n",
    "\n"
   ]
  },
  {
   "cell_type": "code",
   "execution_count": null,
   "id": "2b14b492",
   "metadata": {},
   "outputs": [
    {
     "data": {
      "application/vnd.plotly.v1+json": {
       "config": {
        "plotlyServerURL": "https://plot.ly"
       },
       "data": [
        {
         "hovertemplate": "Season=%{x}<br>Points Per Game=%{y}<extra></extra>",
         "legendgroup": "",
         "line": {
          "color": "#636efa",
          "dash": "solid"
         },
         "marker": {
          "symbol": "circle"
         },
         "mode": "lines",
         "name": "",
         "orientation": "v",
         "showlegend": false,
         "type": "scatter",
         "x": [
          "1979-80",
          "1980-81",
          "1981-82",
          "1982-83",
          "1983-84",
          "1984-85",
          "1985-86",
          "1986-87",
          "1987-88",
          "1988-89",
          "1989-90",
          "1990-91",
          "1991-92",
          "1992-93",
          "1993-94",
          "1994-95",
          "1995-96",
          "1996-97",
          "1997-98",
          "1998-99",
          "1999-00",
          "2000-01",
          "2001-02",
          "2002-03",
          "2003-04",
          "2004-05",
          "2005-06",
          "2006-07",
          "2007-08",
          "2008-09",
          "2009-10",
          "2010-11",
          "2011-12",
          "2012-13",
          "2013-14",
          "2014-15",
          "2015-16",
          "2016-17",
          "2017-18",
          "2018-19",
          "2019-20",
          "2020-21",
          "2021-22",
          "2022-23",
          "2023-24",
          "2024-25"
         ],
         "xaxis": "x",
         "y": [
          74.7,
          77.7,
          66,
          67.8,
          67.9,
          68.9,
          72.8,
          80.3,
          82.6,
          86.4,
          81.7,
          77.5,
          70.9,
          75.9,
          84,
          73.1,
          75.9,
          76.5,
          69.7,
          61.5,
          75.8,
          77.9,
          77.4,
          74.6,
          72.8,
          77,
          70,
          64.1,
          63.6,
          64.8,
          70.8,
          71,
          65.6,
          68.5,
          64.2,
          69.1,
          72.1,
          71.7,
          75.8,
          72.7,
          72.2,
          80.5,
          74.4,
          74.3,
          83.4,
          83.6
         ],
         "yaxis": "y"
        }
       ],
       "layout": {
        "legend": {
         "tracegroupgap": 0
        },
        "template": {
         "data": {
          "bar": [
           {
            "error_x": {
             "color": "#2a3f5f"
            },
            "error_y": {
             "color": "#2a3f5f"
            },
            "marker": {
             "line": {
              "color": "#E5ECF6",
              "width": 0.5
             },
             "pattern": {
              "fillmode": "overlay",
              "size": 10,
              "solidity": 0.2
             }
            },
            "type": "bar"
           }
          ],
          "barpolar": [
           {
            "marker": {
             "line": {
              "color": "#E5ECF6",
              "width": 0.5
             },
             "pattern": {
              "fillmode": "overlay",
              "size": 10,
              "solidity": 0.2
             }
            },
            "type": "barpolar"
           }
          ],
          "carpet": [
           {
            "aaxis": {
             "endlinecolor": "#2a3f5f",
             "gridcolor": "white",
             "linecolor": "white",
             "minorgridcolor": "white",
             "startlinecolor": "#2a3f5f"
            },
            "baxis": {
             "endlinecolor": "#2a3f5f",
             "gridcolor": "white",
             "linecolor": "white",
             "minorgridcolor": "white",
             "startlinecolor": "#2a3f5f"
            },
            "type": "carpet"
           }
          ],
          "choropleth": [
           {
            "colorbar": {
             "outlinewidth": 0,
             "ticks": ""
            },
            "type": "choropleth"
           }
          ],
          "contour": [
           {
            "colorbar": {
             "outlinewidth": 0,
             "ticks": ""
            },
            "colorscale": [
             [
              0,
              "#0d0887"
             ],
             [
              0.1111111111111111,
              "#46039f"
             ],
             [
              0.2222222222222222,
              "#7201a8"
             ],
             [
              0.3333333333333333,
              "#9c179e"
             ],
             [
              0.4444444444444444,
              "#bd3786"
             ],
             [
              0.5555555555555556,
              "#d8576b"
             ],
             [
              0.6666666666666666,
              "#ed7953"
             ],
             [
              0.7777777777777778,
              "#fb9f3a"
             ],
             [
              0.8888888888888888,
              "#fdca26"
             ],
             [
              1,
              "#f0f921"
             ]
            ],
            "type": "contour"
           }
          ],
          "contourcarpet": [
           {
            "colorbar": {
             "outlinewidth": 0,
             "ticks": ""
            },
            "type": "contourcarpet"
           }
          ],
          "heatmap": [
           {
            "colorbar": {
             "outlinewidth": 0,
             "ticks": ""
            },
            "colorscale": [
             [
              0,
              "#0d0887"
             ],
             [
              0.1111111111111111,
              "#46039f"
             ],
             [
              0.2222222222222222,
              "#7201a8"
             ],
             [
              0.3333333333333333,
              "#9c179e"
             ],
             [
              0.4444444444444444,
              "#bd3786"
             ],
             [
              0.5555555555555556,
              "#d8576b"
             ],
             [
              0.6666666666666666,
              "#ed7953"
             ],
             [
              0.7777777777777778,
              "#fb9f3a"
             ],
             [
              0.8888888888888888,
              "#fdca26"
             ],
             [
              1,
              "#f0f921"
             ]
            ],
            "type": "heatmap"
           }
          ],
          "heatmapgl": [
           {
            "colorbar": {
             "outlinewidth": 0,
             "ticks": ""
            },
            "colorscale": [
             [
              0,
              "#0d0887"
             ],
             [
              0.1111111111111111,
              "#46039f"
             ],
             [
              0.2222222222222222,
              "#7201a8"
             ],
             [
              0.3333333333333333,
              "#9c179e"
             ],
             [
              0.4444444444444444,
              "#bd3786"
             ],
             [
              0.5555555555555556,
              "#d8576b"
             ],
             [
              0.6666666666666666,
              "#ed7953"
             ],
             [
              0.7777777777777778,
              "#fb9f3a"
             ],
             [
              0.8888888888888888,
              "#fdca26"
             ],
             [
              1,
              "#f0f921"
             ]
            ],
            "type": "heatmapgl"
           }
          ],
          "histogram": [
           {
            "marker": {
             "pattern": {
              "fillmode": "overlay",
              "size": 10,
              "solidity": 0.2
             }
            },
            "type": "histogram"
           }
          ],
          "histogram2d": [
           {
            "colorbar": {
             "outlinewidth": 0,
             "ticks": ""
            },
            "colorscale": [
             [
              0,
              "#0d0887"
             ],
             [
              0.1111111111111111,
              "#46039f"
             ],
             [
              0.2222222222222222,
              "#7201a8"
             ],
             [
              0.3333333333333333,
              "#9c179e"
             ],
             [
              0.4444444444444444,
              "#bd3786"
             ],
             [
              0.5555555555555556,
              "#d8576b"
             ],
             [
              0.6666666666666666,
              "#ed7953"
             ],
             [
              0.7777777777777778,
              "#fb9f3a"
             ],
             [
              0.8888888888888888,
              "#fdca26"
             ],
             [
              1,
              "#f0f921"
             ]
            ],
            "type": "histogram2d"
           }
          ],
          "histogram2dcontour": [
           {
            "colorbar": {
             "outlinewidth": 0,
             "ticks": ""
            },
            "colorscale": [
             [
              0,
              "#0d0887"
             ],
             [
              0.1111111111111111,
              "#46039f"
             ],
             [
              0.2222222222222222,
              "#7201a8"
             ],
             [
              0.3333333333333333,
              "#9c179e"
             ],
             [
              0.4444444444444444,
              "#bd3786"
             ],
             [
              0.5555555555555556,
              "#d8576b"
             ],
             [
              0.6666666666666666,
              "#ed7953"
             ],
             [
              0.7777777777777778,
              "#fb9f3a"
             ],
             [
              0.8888888888888888,
              "#fdca26"
             ],
             [
              1,
              "#f0f921"
             ]
            ],
            "type": "histogram2dcontour"
           }
          ],
          "mesh3d": [
           {
            "colorbar": {
             "outlinewidth": 0,
             "ticks": ""
            },
            "type": "mesh3d"
           }
          ],
          "parcoords": [
           {
            "line": {
             "colorbar": {
              "outlinewidth": 0,
              "ticks": ""
             }
            },
            "type": "parcoords"
           }
          ],
          "pie": [
           {
            "automargin": true,
            "type": "pie"
           }
          ],
          "scatter": [
           {
            "fillpattern": {
             "fillmode": "overlay",
             "size": 10,
             "solidity": 0.2
            },
            "type": "scatter"
           }
          ],
          "scatter3d": [
           {
            "line": {
             "colorbar": {
              "outlinewidth": 0,
              "ticks": ""
             }
            },
            "marker": {
             "colorbar": {
              "outlinewidth": 0,
              "ticks": ""
             }
            },
            "type": "scatter3d"
           }
          ],
          "scattercarpet": [
           {
            "marker": {
             "colorbar": {
              "outlinewidth": 0,
              "ticks": ""
             }
            },
            "type": "scattercarpet"
           }
          ],
          "scattergeo": [
           {
            "marker": {
             "colorbar": {
              "outlinewidth": 0,
              "ticks": ""
             }
            },
            "type": "scattergeo"
           }
          ],
          "scattergl": [
           {
            "marker": {
             "colorbar": {
              "outlinewidth": 0,
              "ticks": ""
             }
            },
            "type": "scattergl"
           }
          ],
          "scattermapbox": [
           {
            "marker": {
             "colorbar": {
              "outlinewidth": 0,
              "ticks": ""
             }
            },
            "type": "scattermapbox"
           }
          ],
          "scatterpolar": [
           {
            "marker": {
             "colorbar": {
              "outlinewidth": 0,
              "ticks": ""
             }
            },
            "type": "scatterpolar"
           }
          ],
          "scatterpolargl": [
           {
            "marker": {
             "colorbar": {
              "outlinewidth": 0,
              "ticks": ""
             }
            },
            "type": "scatterpolargl"
           }
          ],
          "scatterternary": [
           {
            "marker": {
             "colorbar": {
              "outlinewidth": 0,
              "ticks": ""
             }
            },
            "type": "scatterternary"
           }
          ],
          "surface": [
           {
            "colorbar": {
             "outlinewidth": 0,
             "ticks": ""
            },
            "colorscale": [
             [
              0,
              "#0d0887"
             ],
             [
              0.1111111111111111,
              "#46039f"
             ],
             [
              0.2222222222222222,
              "#7201a8"
             ],
             [
              0.3333333333333333,
              "#9c179e"
             ],
             [
              0.4444444444444444,
              "#bd3786"
             ],
             [
              0.5555555555555556,
              "#d8576b"
             ],
             [
              0.6666666666666666,
              "#ed7953"
             ],
             [
              0.7777777777777778,
              "#fb9f3a"
             ],
             [
              0.8888888888888888,
              "#fdca26"
             ],
             [
              1,
              "#f0f921"
             ]
            ],
            "type": "surface"
           }
          ],
          "table": [
           {
            "cells": {
             "fill": {
              "color": "#EBF0F8"
             },
             "line": {
              "color": "white"
             }
            },
            "header": {
             "fill": {
              "color": "#C8D4E3"
             },
             "line": {
              "color": "white"
             }
            },
            "type": "table"
           }
          ]
         },
         "layout": {
          "annotationdefaults": {
           "arrowcolor": "#2a3f5f",
           "arrowhead": 0,
           "arrowwidth": 1
          },
          "autotypenumbers": "strict",
          "coloraxis": {
           "colorbar": {
            "outlinewidth": 0,
            "ticks": ""
           }
          },
          "colorscale": {
           "diverging": [
            [
             0,
             "#8e0152"
            ],
            [
             0.1,
             "#c51b7d"
            ],
            [
             0.2,
             "#de77ae"
            ],
            [
             0.3,
             "#f1b6da"
            ],
            [
             0.4,
             "#fde0ef"
            ],
            [
             0.5,
             "#f7f7f7"
            ],
            [
             0.6,
             "#e6f5d0"
            ],
            [
             0.7,
             "#b8e186"
            ],
            [
             0.8,
             "#7fbc41"
            ],
            [
             0.9,
             "#4d9221"
            ],
            [
             1,
             "#276419"
            ]
           ],
           "sequential": [
            [
             0,
             "#0d0887"
            ],
            [
             0.1111111111111111,
             "#46039f"
            ],
            [
             0.2222222222222222,
             "#7201a8"
            ],
            [
             0.3333333333333333,
             "#9c179e"
            ],
            [
             0.4444444444444444,
             "#bd3786"
            ],
            [
             0.5555555555555556,
             "#d8576b"
            ],
            [
             0.6666666666666666,
             "#ed7953"
            ],
            [
             0.7777777777777778,
             "#fb9f3a"
            ],
            [
             0.8888888888888888,
             "#fdca26"
            ],
            [
             1,
             "#f0f921"
            ]
           ],
           "sequentialminus": [
            [
             0,
             "#0d0887"
            ],
            [
             0.1111111111111111,
             "#46039f"
            ],
            [
             0.2222222222222222,
             "#7201a8"
            ],
            [
             0.3333333333333333,
             "#9c179e"
            ],
            [
             0.4444444444444444,
             "#bd3786"
            ],
            [
             0.5555555555555556,
             "#d8576b"
            ],
            [
             0.6666666666666666,
             "#ed7953"
            ],
            [
             0.7777777777777778,
             "#fb9f3a"
            ],
            [
             0.8888888888888888,
             "#fdca26"
            ],
            [
             1,
             "#f0f921"
            ]
           ]
          },
          "colorway": [
           "#636efa",
           "#EF553B",
           "#00cc96",
           "#ab63fa",
           "#FFA15A",
           "#19d3f3",
           "#FF6692",
           "#B6E880",
           "#FF97FF",
           "#FECB52"
          ],
          "font": {
           "color": "#2a3f5f"
          },
          "geo": {
           "bgcolor": "white",
           "lakecolor": "white",
           "landcolor": "#E5ECF6",
           "showlakes": true,
           "showland": true,
           "subunitcolor": "white"
          },
          "hoverlabel": {
           "align": "left"
          },
          "hovermode": "closest",
          "mapbox": {
           "style": "light"
          },
          "paper_bgcolor": "white",
          "plot_bgcolor": "#E5ECF6",
          "polar": {
           "angularaxis": {
            "gridcolor": "white",
            "linecolor": "white",
            "ticks": ""
           },
           "bgcolor": "#E5ECF6",
           "radialaxis": {
            "gridcolor": "white",
            "linecolor": "white",
            "ticks": ""
           }
          },
          "scene": {
           "xaxis": {
            "backgroundcolor": "#E5ECF6",
            "gridcolor": "white",
            "gridwidth": 2,
            "linecolor": "white",
            "showbackground": true,
            "ticks": "",
            "zerolinecolor": "white"
           },
           "yaxis": {
            "backgroundcolor": "#E5ECF6",
            "gridcolor": "white",
            "gridwidth": 2,
            "linecolor": "white",
            "showbackground": true,
            "ticks": "",
            "zerolinecolor": "white"
           },
           "zaxis": {
            "backgroundcolor": "#E5ECF6",
            "gridcolor": "white",
            "gridwidth": 2,
            "linecolor": "white",
            "showbackground": true,
            "ticks": "",
            "zerolinecolor": "white"
           }
          },
          "shapedefaults": {
           "line": {
            "color": "#2a3f5f"
           }
          },
          "ternary": {
           "aaxis": {
            "gridcolor": "white",
            "linecolor": "white",
            "ticks": ""
           },
           "baxis": {
            "gridcolor": "white",
            "linecolor": "white",
            "ticks": ""
           },
           "bgcolor": "#E5ECF6",
           "caxis": {
            "gridcolor": "white",
            "linecolor": "white",
            "ticks": ""
           }
          },
          "title": {
           "x": 0.05
          },
          "xaxis": {
           "automargin": true,
           "gridcolor": "white",
           "linecolor": "white",
           "ticks": "",
           "title": {
            "standoff": 15
           },
           "zerolinecolor": "white",
           "zerolinewidth": 2
          },
          "yaxis": {
           "automargin": true,
           "gridcolor": "white",
           "linecolor": "white",
           "ticks": "",
           "title": {
            "standoff": 15
           },
           "zerolinecolor": "white",
           "zerolinewidth": 2
          }
         }
        },
        "title": {
         "text": "Points Per Game by Season"
        },
        "xaxis": {
         "anchor": "y",
         "domain": [
          0,
          1
         ],
         "title": {
          "text": "Season"
         }
        },
        "yaxis": {
         "anchor": "x",
         "domain": [
          0,
          1
         ],
         "title": {
          "text": "Points Per Game"
         }
        }
       }
      }
     },
     "metadata": {},
     "output_type": "display_data"
    },
    {
     "ename": "",
     "evalue": "",
     "output_type": "error",
     "traceback": [
      "\u001b[1;31mThe Kernel crashed while executing code in the current cell or a previous cell. \n",
      "\u001b[1;31mPlease review the code in the cell(s) to identify a possible cause of the failure. \n",
      "\u001b[1;31mClick <a href='https://aka.ms/vscodeJupyterKernelCrash'>here</a> for more info. \n",
      "\u001b[1;31mView Jupyter <a href='command:jupyter.viewOutput'>log</a> for further details."
     ]
    }
   ],
   "source": [
    "fig = px.line(season_stats_uiuc, x=season_stats_uiuc['Season'], y='Points Per Game', title='Points Per Game by Season')\n",
    "fig"
   ]
  },
  {
   "cell_type": "code",
   "execution_count": null,
   "id": "f9136edc",
   "metadata": {},
   "outputs": [],
   "source": []
  }
 ],
 "metadata": {
  "kernelspec": {
   "display_name": "Python 3",
   "language": "python",
   "name": "python3"
  },
  "language_info": {
   "codemirror_mode": {
    "name": "ipython",
    "version": 3
   },
   "file_extension": ".py",
   "mimetype": "text/x-python",
   "name": "python",
   "nbconvert_exporter": "python",
   "pygments_lexer": "ipython3",
   "version": "3.11.9"
  }
 },
 "nbformat": 4,
 "nbformat_minor": 5
}
