{
 "cells": [
  {
   "cell_type": "code",
   "execution_count": 1,
   "id": "269f19bb",
   "metadata": {},
   "outputs": [],
   "source": [
    "import requests\n",
    "from bs4 import BeautifulSoup\n",
    "import pandas as pd"
   ]
  },
  {
   "cell_type": "code",
   "execution_count": 18,
   "id": "49875fd8",
   "metadata": {},
   "outputs": [],
   "source": [
    "url = 'https://fightingillini.com/sports/2021/4/30/mens-basketball-history'\n",
    "\n",
    "# Scrape the webpage\n",
    "res = requests.get(url)\n",
    "soup = BeautifulSoup(res.text, 'html.parser')\n",
    "\n",
    "\n",
    "\n",
    "# Grab all <table class=\"release\">\n",
    "all_tables = soup.find_all(\"table\", class_=\"release\")\n",
    "\n",
    "# Extract team honor tables\n",
    "titles_dict = {}\n",
    "for table in all_tables:\n",
    "    rows = table.find_all(\"tr\")\n",
    "    if not rows:\n",
    "        continue\n",
    "\n",
    "    # First row should contain <th> with title\n",
    "    header_cells = rows[0].find_all(\"th\")\n",
    "    if not header_cells:\n",
    "        continue\n",
    "\n",
    "    title = header_cells[0].get_text(strip=True)\n",
    "\n",
    "    # Get second row <td> values (could be 1 or many)\n",
    "    if len(rows) > 1:\n",
    "        data_cells = rows[1].find_all(\"td\")\n",
    "        data = [cell.get_text(strip=True) for cell in data_cells]\n",
    "\n",
    "        # Turn into a DataFrame\n",
    "        df = pd.DataFrame([data])  # one row of data\n",
    "\n",
    "        # Rename columns only if there's exactly 1 column\n",
    "        if len(df.columns) == 1:\n",
    "            df.columns = [title]\n",
    "\n",
    "        titles_dict[title] = df\n"
   ]
  },
  {
   "cell_type": "code",
   "execution_count": 22,
   "id": "5ecaf919",
   "metadata": {},
   "outputs": [
    {
     "data": {
      "text/plain": [
       "{'1* National Title':   1* National Title\n",
       " 0              1915,\n",
       " '5 NCAA Final Fours':              5 NCAA Final Fours\n",
       " 0  1949, 1951, 1952, 1989, 2005,\n",
       " '35* NCAA Tournament Appearances':                      35* NCAA Tournament Appearances\n",
       " 0  1942, 1949, 1951, 1952, 1963, 1981, 1983, 1984...,\n",
       " '18* Big Ten Regular Season Championships':             18* Big Ten Regular Season Championships\n",
       " 0  1915, 1917, 1924, 1935, 1937, 1942, 1943, 1949...,\n",
       " '4 Big Ten Tournament Championships':   4 Big Ten Tournament Championships\n",
       " 0             2003, 2005, 2021, 2024,\n",
       " 'Winningest Seasons – By Total Wins':   Rank Wins  Year\n",
       " 0   1.   37  2005,\n",
       " 'Winningest Seasons – By Win Percentage':   Rank  Win % Record  Year\n",
       " 0   1.  1.000   16-0  1915,\n",
       " 'Winningest\\xa0Big Ten Seasons – By Total Wins':   Rank Wins  Year\n",
       " 0   1.   16  2021,\n",
       " 'Winningest\\xa0Big Ten Seasons – By Win Percentage':   Rank  Win % Record  Year\n",
       " 0   1.  1.000   12-0  1943}"
      ]
     },
     "execution_count": 22,
     "metadata": {},
     "output_type": "execute_result"
    }
   ],
   "source": [
    "titles_dict"
   ]
  },
  {
   "cell_type": "code",
   "execution_count": 23,
   "id": "0bc05104",
   "metadata": {},
   "outputs": [],
   "source": [
    "cleaned_dict = {}\n",
    "\n",
    "for title, df in titles_dict.items():\n",
    "    # 1. Fix weird spacing in titles\n",
    "    clean_title = title.replace('\\xa0', ' ').strip()\n",
    "\n",
    "    # 2. Rename columns if clearly unlabelled\n",
    "    if len(df.columns) == 3 and list(df.columns) == [0, 1, 2]:\n",
    "        df.columns = ['Rank', 'Wins', 'Year']\n",
    "    elif len(df.columns) == 4 and list(df.columns) == [0, 1, 2, 3]:\n",
    "        df.columns = ['Rank', 'Win %', 'Record', 'Year']\n",
    "\n",
    "    cleaned_dict[clean_title] = df"
   ]
  },
  {
   "cell_type": "code",
   "execution_count": 24,
   "id": "e824d8b6",
   "metadata": {},
   "outputs": [
    {
     "data": {
      "text/plain": [
       "{'1* National Title':   1* National Title\n",
       " 0              1915,\n",
       " '5 NCAA Final Fours':              5 NCAA Final Fours\n",
       " 0  1949, 1951, 1952, 1989, 2005,\n",
       " '35* NCAA Tournament Appearances':                      35* NCAA Tournament Appearances\n",
       " 0  1942, 1949, 1951, 1952, 1963, 1981, 1983, 1984...,\n",
       " '18* Big Ten Regular Season Championships':             18* Big Ten Regular Season Championships\n",
       " 0  1915, 1917, 1924, 1935, 1937, 1942, 1943, 1949...,\n",
       " '4 Big Ten Tournament Championships':   4 Big Ten Tournament Championships\n",
       " 0             2003, 2005, 2021, 2024,\n",
       " 'Winningest Seasons – By Total Wins':   Rank Wins  Year\n",
       " 0   1.   37  2005,\n",
       " 'Winningest Seasons – By Win Percentage':   Rank  Win % Record  Year\n",
       " 0   1.  1.000   16-0  1915,\n",
       " 'Winningest\\xa0Big Ten Seasons – By Total Wins':   Rank Wins  Year\n",
       " 0   1.   16  2021,\n",
       " 'Winningest\\xa0Big Ten Seasons – By Win Percentage':   Rank  Win % Record  Year\n",
       " 0   1.  1.000   12-0  1943}"
      ]
     },
     "execution_count": 24,
     "metadata": {},
     "output_type": "execute_result"
    }
   ],
   "source": [
    "titles_dict"
   ]
  },
  {
   "cell_type": "code",
   "execution_count": null,
   "id": "28d625af",
   "metadata": {},
   "outputs": [],
   "source": []
  }
 ],
 "metadata": {
  "kernelspec": {
   "display_name": "Python 3",
   "language": "python",
   "name": "python3"
  },
  "language_info": {
   "codemirror_mode": {
    "name": "ipython",
    "version": 3
   },
   "file_extension": ".py",
   "mimetype": "text/x-python",
   "name": "python",
   "nbconvert_exporter": "python",
   "pygments_lexer": "ipython3",
   "version": "3.11.9"
  }
 },
 "nbformat": 4,
 "nbformat_minor": 5
}
