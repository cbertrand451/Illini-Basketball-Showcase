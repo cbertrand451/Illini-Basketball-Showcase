{
 "cells": [
  {
   "cell_type": "markdown",
   "id": "1a027ade",
   "metadata": {},
   "source": [
    "# Scraping the School Team History\n",
    "\n",
    "### The Goal:\n",
    "Scrape the Team History to create a json file that contains the historical stats as a datafram, with the statistic name as the key. This includes stats like number of tournaments won, most winning years, best big10 years, etc."
   ]
  },
  {
   "cell_type": "code",
   "execution_count": 163,
   "id": "269f19bb",
   "metadata": {},
   "outputs": [],
   "source": [
    "import requests\n",
    "from bs4 import BeautifulSoup\n",
    "import pandas as pd"
   ]
  },
  {
   "cell_type": "markdown",
   "id": "6f32b602",
   "metadata": {},
   "source": [
    "## Title Dictionary\n",
    "\n",
    "This part gets the url and scrapes it for the historical titles UIUC has won. There are two functions which fix the dataframes once the data is received, because the headers were commonly included in the data. Each title name is used as a key, and the title data is the values as a dataframe. "
   ]
  },
  {
   "cell_type": "code",
   "execution_count": 164,
   "id": "49875fd8",
   "metadata": {},
   "outputs": [],
   "source": [
    "url = 'https://fightingillini.com/sports/2021/4/30/mens-basketball-history'\n",
    "\n",
    "\n",
    "def set_first_row_as_header(df):\n",
    "    df = df.copy()  # avoid modifying original\n",
    "    df.columns = df.iloc[0]\n",
    "    return df[1:].reset_index(drop=True)\n",
    "\n",
    "def try_fix_header(df):\n",
    "    if df.shape[0] > 1:\n",
    "        return set_first_row_as_header(df)\n",
    "    return df\n",
    "\n",
    "\n",
    "# Scrape the webpage\n",
    "res = requests.get(url)\n",
    "soup = BeautifulSoup(res.text, 'html.parser')\n",
    "\n",
    "\n",
    "\n",
    "all_tables = soup.find_all(\"table\", class_=\"release\")\n",
    "titles_dict = {}\n",
    "\n",
    "for table in all_tables:\n",
    "    rows = table.find_all(\"tr\")\n",
    "    if not rows:\n",
    "        continue\n",
    "\n",
    "    # Try to extract a title from the first <th>\n",
    "    header_cells = rows[0].find_all(\"th\")\n",
    "    if not header_cells:\n",
    "        continue\n",
    "\n",
    "    title = header_cells[0].get_text(strip=True).replace('\\xa0', ' ')\n",
    "\n",
    "    # Grab all rows\n",
    "    raw_rows = []\n",
    "    for tr in table.find_all(\"tr\"):\n",
    "        cols = [cell.get_text(strip=True) for cell in tr.find_all([\"td\", \"th\"])]\n",
    "        if cols:\n",
    "            raw_rows.append(cols)\n",
    "\n",
    "    # Skip section title row (first) if it has only one column\n",
    "    if len(raw_rows) > 1:\n",
    "        raw_rows = raw_rows[1:]\n",
    "\n",
    "    # Create DataFrame\n",
    "    df = pd.DataFrame(raw_rows)\n",
    "\n",
    " \n",
    "\n",
    "    # Save to dictionary\n",
    "    titles_dict[title] = df\n"
   ]
  },
  {
   "cell_type": "markdown",
   "id": "af08f318",
   "metadata": {},
   "source": [
    "## Example 1\n",
    "multirow dataframe"
   ]
  },
  {
   "cell_type": "code",
   "execution_count": 165,
   "id": "5ecaf919",
   "metadata": {},
   "outputs": [
    {
     "data": {
      "text/html": [
       "<div>\n",
       "<style scoped>\n",
       "    .dataframe tbody tr th:only-of-type {\n",
       "        vertical-align: middle;\n",
       "    }\n",
       "\n",
       "    .dataframe tbody tr th {\n",
       "        vertical-align: top;\n",
       "    }\n",
       "\n",
       "    .dataframe thead th {\n",
       "        text-align: right;\n",
       "    }\n",
       "</style>\n",
       "<table border=\"1\" class=\"dataframe\">\n",
       "  <thead>\n",
       "    <tr style=\"text-align: right;\">\n",
       "      <th></th>\n",
       "      <th>0</th>\n",
       "      <th>1</th>\n",
       "      <th>2</th>\n",
       "      <th>3</th>\n",
       "    </tr>\n",
       "  </thead>\n",
       "  <tbody>\n",
       "    <tr>\n",
       "      <th>0</th>\n",
       "      <td>1.</td>\n",
       "      <td>1.000</td>\n",
       "      <td>16-0</td>\n",
       "      <td>1915</td>\n",
       "    </tr>\n",
       "    <tr>\n",
       "      <th>1</th>\n",
       "      <td>2.</td>\n",
       "      <td>.949</td>\n",
       "      <td>37-2</td>\n",
       "      <td>2005</td>\n",
       "    </tr>\n",
       "    <tr>\n",
       "      <th>2</th>\n",
       "      <td>3.</td>\n",
       "      <td>.944</td>\n",
       "      <td>17-1</td>\n",
       "      <td>1943</td>\n",
       "    </tr>\n",
       "    <tr>\n",
       "      <th>3</th>\n",
       "      <td>4.</td>\n",
       "      <td>.861</td>\n",
       "      <td>31-5</td>\n",
       "      <td>1989</td>\n",
       "    </tr>\n",
       "    <tr>\n",
       "      <th>4</th>\n",
       "      <td>5.</td>\n",
       "      <td>.846</td>\n",
       "      <td>22-4</td>\n",
       "      <td>1952</td>\n",
       "    </tr>\n",
       "    <tr>\n",
       "      <th>5</th>\n",
       "      <td>6.</td>\n",
       "      <td>.840</td>\n",
       "      <td>21-4</td>\n",
       "      <td>1949</td>\n",
       "    </tr>\n",
       "    <tr>\n",
       "      <th>6</th>\n",
       "      <td>7.</td>\n",
       "      <td>.839</td>\n",
       "      <td>26-5</td>\n",
       "      <td>1984</td>\n",
       "    </tr>\n",
       "    <tr>\n",
       "      <th>7</th>\n",
       "      <td>8.</td>\n",
       "      <td>.818</td>\n",
       "      <td>18-4</td>\n",
       "      <td>1956</td>\n",
       "    </tr>\n",
       "    <tr>\n",
       "      <th>8</th>\n",
       "      <td></td>\n",
       "      <td>.818</td>\n",
       "      <td>18-4</td>\n",
       "      <td>1953</td>\n",
       "    </tr>\n",
       "    <tr>\n",
       "      <th>9</th>\n",
       "      <td>10.</td>\n",
       "      <td>.815</td>\n",
       "      <td>22-5</td>\n",
       "      <td>1951</td>\n",
       "    </tr>\n",
       "  </tbody>\n",
       "</table>\n",
       "</div>"
      ],
      "text/plain": [
       "     0      1     2     3\n",
       "0   1.  1.000  16-0  1915\n",
       "1   2.   .949  37-2  2005\n",
       "2   3.   .944  17-1  1943\n",
       "3   4.   .861  31-5  1989\n",
       "4   5.   .846  22-4  1952\n",
       "5   6.   .840  21-4  1949\n",
       "6   7.   .839  26-5  1984\n",
       "7   8.   .818  18-4  1956\n",
       "8        .818  18-4  1953\n",
       "9  10.   .815  22-5  1951"
      ]
     },
     "execution_count": 165,
     "metadata": {},
     "output_type": "execute_result"
    }
   ],
   "source": [
    "titles_dict['Winningest Seasons – By Win Percentage']"
   ]
  },
  {
   "cell_type": "markdown",
   "id": "4cde5e4f",
   "metadata": {},
   "source": [
    "## Example 2\n",
    " single row dataframe"
   ]
  },
  {
   "cell_type": "code",
   "execution_count": 166,
   "id": "49ff0743",
   "metadata": {},
   "outputs": [
    {
     "data": {
      "text/html": [
       "<div>\n",
       "<style scoped>\n",
       "    .dataframe tbody tr th:only-of-type {\n",
       "        vertical-align: middle;\n",
       "    }\n",
       "\n",
       "    .dataframe tbody tr th {\n",
       "        vertical-align: top;\n",
       "    }\n",
       "\n",
       "    .dataframe thead th {\n",
       "        text-align: right;\n",
       "    }\n",
       "</style>\n",
       "<table border=\"1\" class=\"dataframe\">\n",
       "  <thead>\n",
       "    <tr style=\"text-align: right;\">\n",
       "      <th></th>\n",
       "      <th>0</th>\n",
       "    </tr>\n",
       "  </thead>\n",
       "  <tbody>\n",
       "    <tr>\n",
       "      <th>0</th>\n",
       "      <td>1915</td>\n",
       "    </tr>\n",
       "  </tbody>\n",
       "</table>\n",
       "</div>"
      ],
      "text/plain": [
       "      0\n",
       "0  1915"
      ]
     },
     "execution_count": 166,
     "metadata": {},
     "output_type": "execute_result"
    }
   ],
   "source": [
    "titles_dict['1* National Title']"
   ]
  },
  {
   "cell_type": "markdown",
   "id": "5ee001d7",
   "metadata": {},
   "source": [
    "## Exporting\n",
    "This exports the dictionary out using pickle. Cannot directly export as json since the values are dataframes. "
   ]
  },
  {
   "cell_type": "code",
   "execution_count": 168,
   "id": "9635ef36",
   "metadata": {},
   "outputs": [],
   "source": [
    "import os\n",
    "import pickle\n",
    "output_dir = \"data\\processed\"\n",
    "\n",
    "os.makedirs(output_dir, exist_ok=True)\n",
    "file_path = os.path.join(output_dir, 'mbb_history.json')\n",
    "with open(file_path, 'wb') as f:\n",
    "    pickle.dump(titles_dict, f)"
   ]
  }
 ],
 "metadata": {
  "kernelspec": {
   "display_name": "Python 3",
   "language": "python",
   "name": "python3"
  },
  "language_info": {
   "codemirror_mode": {
    "name": "ipython",
    "version": 3
   },
   "file_extension": ".py",
   "mimetype": "text/x-python",
   "name": "python",
   "nbconvert_exporter": "python",
   "pygments_lexer": "ipython3",
   "version": "3.11.9"
  }
 },
 "nbformat": 4,
 "nbformat_minor": 5
}
