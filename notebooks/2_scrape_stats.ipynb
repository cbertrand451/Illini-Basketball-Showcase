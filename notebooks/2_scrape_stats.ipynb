{
 "cells": [
  {
   "cell_type": "markdown",
   "id": "94e87f98",
   "metadata": {},
   "source": [
    "# Scraping the Player's and Team's Stats\n",
    "\n",
    "### The Goal:\n",
    "\n",
    "Using the json file from part 1, scrape the players dashboard for basic biography, including picture. Also grab the teams statistics from that year, and be able to access the player's all around stats from the team portfolio"
   ]
  },
  {
   "cell_type": "markdown",
   "id": "97cf9fcd",
   "metadata": {},
   "source": [
    "## Imports"
   ]
  },
  {
   "cell_type": "code",
   "execution_count": 1,
   "id": "f63e9fe9",
   "metadata": {},
   "outputs": [],
   "source": [
    "import requests\n",
    "from bs4 import BeautifulSoup\n",
    "import re"
   ]
  },
  {
   "cell_type": "markdown",
   "id": "28230564",
   "metadata": {},
   "source": [
    "## Player Header Info \n",
    "Scraping the basic biography info found in the player's header"
   ]
  },
  {
   "cell_type": "code",
   "execution_count": 2,
   "id": "f7a53f17",
   "metadata": {},
   "outputs": [],
   "source": [
    "def player_scrape_header_info(url):\n",
    "    res = requests.get(url)\n",
    "    soup = BeautifulSoup(res.text, \"html.parser\")\n",
    "\n",
    "    data = {}\n",
    "\n",
    "    jersey_tag = soup.find(\"span\", class_=\"sidearm-roster-player-jersey-number\")\n",
    "    if jersey_tag:\n",
    "        data[\"Jersey Number\"] = jersey_tag.get_text(strip=True)\n",
    "\n",
    "    # First & Last Name\n",
    "    first_name = soup.find(\"span\", class_=\"sidearm-roster-player-first-name\")\n",
    "    last_name = soup.find(\"span\", class_=\"sidearm-roster-player-last-name\")\n",
    "    if first_name and last_name:\n",
    "        data[\"First Name\"] = first_name.get_text(strip=True)\n",
    "        data[\"Last Name\"] = last_name.get_text(strip=True)\n",
    "        data[\"Full Name\"] = f\"{data['First Name']} {data['Last Name']}\"\n",
    "\n",
    "    # Image URL\n",
    "    image_div = soup.find(\"div\", class_=\"sidearm-roster-player-image\")\n",
    "    if image_div:\n",
    "        img_tag = image_div.find(\"img\")\n",
    "        if img_tag and img_tag.get(\"src\"):\n",
    "            data[\"Image URL\"] = img_tag[\"src\"]\n",
    "\n",
    "    # Social links (Instagram, NIL)\n",
    "    social_links = soup.find_all(\"a\", class_=\"sidearm-roster-player-social-link\")\n",
    "    for link in social_links:\n",
    "        href = link.get(\"href\", \"\")\n",
    "        if \"instagram.com\" in href:\n",
    "            data[\"Instagram URL\"] = href\n",
    "        elif \"opndr.se\" in href:\n",
    "            data[\"NIL URL\"] = href\n",
    "\n",
    "    # Player metadata from the fields section\n",
    "    field_items = soup.select(\"div.sidearm-roster-player-fields li\")\n",
    "    for item in field_items:\n",
    "        label_span = item.find(\"span\", class_=\"sidearm-roster-player-field-label\")\n",
    "        value_span = label_span.find_next_sibling(\"span\") if label_span else None\n",
    "        if label_span and value_span:\n",
    "            key = label_span.get_text(strip=True)\n",
    "            value = value_span.get_text(strip=True)\n",
    "            data[key] = value\n",
    "\n",
    "    stats_section = soup.find(\"div\", id=\"sidearm-roster-player-stats\")\n",
    "    if stats_section:\n",
    "        table = stats_section.find(\"table\")\n",
    "        if table:\n",
    "            headers = [th.get_text(strip=True) for th in table.find_all(\"th\")]\n",
    "            rows = []\n",
    "            for row in table.find_all(\"tr\")[1:]:  # skip header\n",
    "                cells = [td.get_text(strip=True) for td in row.find_all(\"td\")]\n",
    "                if cells:\n",
    "                    row_dict = dict(zip(headers, cells))\n",
    "                    rows.append(row_dict)\n",
    "            data[\"Stats\"] = rows\n",
    "\n",
    "    return data\n"
   ]
  },
  {
   "cell_type": "markdown",
   "id": "f5401f28",
   "metadata": {},
   "source": [
    "## Product\n",
    "\n",
    "Basic header info printed out"
   ]
  },
  {
   "cell_type": "code",
   "execution_count": 3,
   "id": "2fd047d8",
   "metadata": {},
   "outputs": [
    {
     "data": {
      "text/plain": [
       "{'Jersey Number': '0',\n",
       " 'First Name': 'Carey',\n",
       " 'Last Name': 'Booth',\n",
       " 'Full Name': 'Carey Booth',\n",
       " 'Image URL': 'https://d1iubivivot1gj.cloudfront.net/images/2024/9/19/Booth_Carey_WEB_20240916_MBB_Headshot_KS_0714.jpg?width=300',\n",
       " 'Instagram URL': 'https://www.instagram.com/careybooth',\n",
       " 'NIL URL': 'https://opndr.se/carey-booth',\n",
       " 'Class': 'Sophomore',\n",
       " 'Height': '6-10',\n",
       " 'Weight': '215',\n",
       " 'Major': 'Communication',\n",
       " 'Hometown': 'Englewood, Colo.',\n",
       " 'High School': 'Brewster Academy (N.H.)',\n",
       " 'Prev School': 'Notre Dame',\n",
       " 'Instagram': 'careybooth'}"
      ]
     },
     "execution_count": 3,
     "metadata": {},
     "output_type": "execute_result"
    }
   ],
   "source": [
    "player_scrape_header_info('https://fightingillini.com/sports/mens-basketball/roster/carey-booth/14522')"
   ]
  },
  {
   "cell_type": "markdown",
   "id": "7397b08b",
   "metadata": {},
   "source": [
    "## Background Image\n",
    "Sometimes a player doesn't have an image on the page with their bio. There is another page with background that often holds a picture. This scrapes that image."
   ]
  },
  {
   "cell_type": "code",
   "execution_count": 4,
   "id": "e00c3396",
   "metadata": {},
   "outputs": [],
   "source": [
    "def extract_background_image_url(url):\n",
    "    res = requests.get(url)\n",
    "    soup = BeautifulSoup(res.text, \"html.parser\")\n",
    "    div = soup.find(\"div\", class_=\"sidearm-roster-player-image-historical\")\n",
    "    if div and \"style\" in div.attrs:\n",
    "        style = div[\"style\"]\n",
    "        # Use regex to extract the URL inside url('...')\n",
    "        match = re.search(r\"url\\('(.*?)'\\)\", style)\n",
    "        if match:\n",
    "            return match.group(1)\n",
    "    return None"
   ]
  },
  {
   "cell_type": "markdown",
   "id": "0e0efa5c",
   "metadata": {},
   "source": [
    "## Scrape Stats Page\n",
    "\n",
    "### The page here is taken to find the player's stats and the teams stats\n",
    "\n",
    "The first function scrapes the entire page. The second function grabs the stats table with the overall team stats. The rows are each a different statostics from tjhat year, for both the UIUC team and the away team. The third function extracts the player's season stats, which include the normal statistics like points scored, games played, rebounds, assists, etc."
   ]
  },
  {
   "cell_type": "code",
   "execution_count": 3,
   "id": "0bb2ee88",
   "metadata": {},
   "outputs": [],
   "source": [
    "import requests\n",
    "from bs4 import BeautifulSoup\n",
    "import pandas as pd\n",
    "\n",
    "def scrape_season_stats_w_players(season=\"2023-24\"):\n",
    "    url = f\"https://fightingillini.com/sports/mens-basketball/stats/{season}\"\n",
    "    res = requests.get(url)\n",
    "    if res.status_code != 200:\n",
    "        print(f\"Failed for {season}\")\n",
    "        return None, None\n",
    "\n",
    "    soup = BeautifulSoup(res.text, \"html.parser\")\n",
    "\n",
    "    # Get team stats section\n",
    "    team_section = soup.find(\"section\", id=\"team\")\n",
    "    if team_section is None:\n",
    "        print(f\"Could not find team stats section for {season}\")\n",
    "        return None, None\n",
    "    team_table = team_section.find(\"table\")\n",
    "    team_stats = extract_stat_table(team_table, season)\n",
    "\n",
    "    # Get player stats section\n",
    "    player_section = soup.find(\"section\", id=\"individual-overall\")\n",
    "    if player_section is None:\n",
    "        print(f\"Could not find player stats section for {season}\")\n",
    "        return team_stats, None\n",
    "    player_table = player_section.find(\"table\")\n",
    "    player_stats = extract_player_table(player_table, season)\n",
    "\n",
    "    return team_stats, player_stats\n",
    "\n",
    "\n",
    "def extract_stat_table(table, season):\n",
    "    rows = []\n",
    "    for tr in table.find_all(\"tr\")[1:]:  # skip header row\n",
    "        tds = tr.find_all(\"td\")\n",
    "        if len(tds) < 3:\n",
    "            continue  # skip malformed rows\n",
    "\n",
    "        # First column = stat label\n",
    "        stat_span = tds[0].find(\"span\", class_=\"hide-on-small-down\")\n",
    "        stat = stat_span.get_text(strip=True) if stat_span else tds[0].get_text(strip=True)\n",
    "\n",
    "        illinois = tds[1].get_text(strip=True) if len(tds) > 1 else None\n",
    "        opponents = tds[2].get_text(strip=True) if len(tds) > 2 else None\n",
    "\n",
    "        rows.append({\n",
    "            \"Statistic\": stat,\n",
    "            \"Illinois\": illinois,\n",
    "            \"Opponents\": opponents,\n",
    "            \"Season\": season\n",
    "        })\n",
    "\n",
    "    return pd.DataFrame(rows)\n",
    "\n",
    "\n",
    "def extract_player_table(table, season):\n",
    "    thead_rows = table.find(\"thead\").find_all(\"tr\")\n",
    "    row1 = thead_rows[0].find_all(\"th\")\n",
    "    row2 = thead_rows[1].find_all(\"th\")\n",
    "\n",
    "    headers = []\n",
    "    group_labels = []\n",
    "    for th in row1:\n",
    "        colspan = int(th.get(\"colspan\", 1))\n",
    "        rowspan = int(th.get(\"rowspan\", 1))\n",
    "        label = th.get_text(strip=True)\n",
    "        if rowspan == 2:\n",
    "            headers.append(label)\n",
    "        else:\n",
    "            group_labels.extend([label] * colspan)\n",
    "\n",
    "    # Combine ambiguous headers like 'TOT' and 'AVG' with their group labels\n",
    "    for i, th in enumerate(row2):\n",
    "        label = th.get_text(strip=True)\n",
    "        if label in ['TOT', 'AVG']:\n",
    "            headers.append(f\"{group_labels[i]} {label}\")\n",
    "        else:\n",
    "            headers.append(label)\n",
    "\n",
    "    # Extract the rows\n",
    "    rows = []\n",
    "    for tr in table.find(\"tbody\").find_all(\"tr\"):\n",
    "        tds = tr.find_all(\"td\")\n",
    "        if not tds or len(tds) < 2:\n",
    "            continue\n",
    "        row_data = {}\n",
    "        for i in range(min(len(headers), len(tds))):\n",
    "            header = headers[i]\n",
    "            cell = tds[i].get_text(strip=True)\n",
    "\n",
    "            if header == \"Player\":\n",
    "                name_tag = tds[i].find(\"a\")\n",
    "                raw_name = name_tag.get_text(strip=True) if name_tag else cell\n",
    "                if \",\" in raw_name:\n",
    "                    last, first = raw_name.split(\",\", 1)\n",
    "                    cell = f\"{first.strip()} {last.strip()}\"\n",
    "            row_data[header] = cell\n",
    "        rows.append(row_data)\n",
    "    \n",
    "    return pd.DataFrame(rows)"
   ]
  },
  {
   "cell_type": "markdown",
   "id": "934b3364",
   "metadata": {},
   "source": [
    "## The Product\n",
    "The team stats and the player stats are shown as dataframes here"
   ]
  },
  {
   "cell_type": "code",
   "execution_count": 6,
   "id": "58f7c414",
   "metadata": {},
   "outputs": [
    {
     "name": "stdout",
     "output_type": "stream",
     "text": [
      "Team Stats:\n",
      "            Statistic   Illinois  Opponents   Season\n",
      "0        Total Points       3168       2787  2023-24\n",
      "1     Points Per Game       83.4       73.3  2023-24\n",
      "2      Scoring Margin       10.0         --  2023-24\n",
      "3  FG: Made-Attempted  1104-2356  1044-2418  2023-24\n",
      "4      FG: Percentage       .469       .432  2023-24\n",
      "\n",
      "Player Stats:\n",
      "    #                Player  GP  GS    PF   AST   TO  STL   BLK Bio Link  ...  \\\n",
      "0  00  Terrence Shannon Jr.  32  31  1086  33.9  219  461  .475       77  ...   \n",
      "1  03         Marcus Domask  38  38  1313  34.6  216  477  .453       41  ...   \n",
      "2  33       Coleman Hawkins  35  35  1107  31.6  144  319  .451       59  ...   \n",
      "3  14       Quincy Guerrier  38  38   915  24.1  127  267  .476       43  ...   \n",
      "4  20            Ty Rodgers  38  38   866  22.8   98  186  .527        0  ...   \n",
      "\n",
      "  3PT%  FTM  FTA  FT% PTS Scoring AVG OFF DEF Rebounds TOT Rebounds AVG  \n",
      "0   26  102  128  4.0  71          73  64  33           28     View Bio  \n",
      "1   42  148  190  5.0  50         150  89  14           13     View Bio  \n",
      "2   48  164  212  6.1  91          95  55  51           37     View Bio  \n",
      "3   65  167  232  6.1  70          11  34  10           12     View Bio  \n",
      "4   87  114  201  5.3  66          76  48  17           15     View Bio  \n",
      "\n",
      "[5 rows x 27 columns]\n"
     ]
    }
   ],
   "source": [
    "team_df, players_df = scrape_season_stats_w_players(\"2023-24\")\n",
    "\n",
    "print(\"Team Stats:\")\n",
    "print(team_df.head())\n",
    "\n",
    "print(\"\\nPlayer Stats:\")\n",
    "print(players_df.head())"
   ]
  },
  {
   "cell_type": "markdown",
   "id": "2b81c8b4",
   "metadata": {},
   "source": [
    "# Cleaning Player Data\n",
    "The scraping was slightly off for the player data, it grabbed everything but not in the correct order. This function rearranges the columns to be in the correct order with the correct values aligned. "
   ]
  },
  {
   "cell_type": "code",
   "execution_count": 7,
   "id": "2f8a77d3",
   "metadata": {},
   "outputs": [
    {
     "name": "stdout",
     "output_type": "stream",
     "text": [
      "Actual columns in DataFrame: ['#', 'Player', 'GP', 'GS', 'PF', 'AST', 'TO', 'STL', 'BLK', 'Bio Link', 'Minutes TOT', 'Minutes AVG', 'FGM', 'FGA', 'FG%', '3PT', '3PTA', '3PT%', 'FTM', 'FTA', 'FT%', 'PTS', 'Scoring AVG', 'OFF', 'DEF', 'Rebounds TOT', 'Rebounds AVG']\n",
      "Actual columns in DataFrame: ['#', 'Player', 'GP', 'GS', 'Minutes TOT', 'Minutes AVG', 'FGM', 'FGA', 'FG%', '3PT', '3PTA', '3PT%', 'FTM', 'FTA', 'FT%', 'PTS', 'Scoring AVG', 'OFF', 'DEF', 'Rebounds TOT', 'Rebounds AVG', 'PF', 'AST', 'TO', 'STL', 'BLK', 'Bio Link']\n"
     ]
    }
   ],
   "source": [
    "print(\"Actual columns in DataFrame:\", list(players_df.columns))\n",
    "def fix_df(players_df):\n",
    "    players_df_n = players_df.copy()\n",
    "\n",
    "    # Perform the column fixes\n",
    "    players_df_n.loc[:, 'Minutes TOT'] = players_df['PF']\n",
    "    players_df_n.loc[:, 'Minutes AVG'] = players_df['AST']\n",
    "    players_df_n.loc[:, 'FGM'] = players_df['TO']\n",
    "    players_df_n.loc[:, 'FGA'] = players_df['STL']\n",
    "    players_df_n.loc[:, 'FG%'] = players_df['BLK']\n",
    "    players_df_n.loc[:, '3PT'] = players_df['Bio Link']\n",
    "    players_df_n.loc[:, '3PTA'] = players_df['Minutes TOT']\n",
    "    players_df_n.loc[:, '3PT%'] = players_df['Minutes AVG']\n",
    "    players_df_n.loc[:, 'FTM'] = players_df['FGM']\n",
    "    players_df_n.loc[:, 'FTA'] = players_df['FGA']\n",
    "    players_df_n.loc[:, 'FT%'] = players_df['FG%']\n",
    "    players_df_n.loc[:, 'PTS'] = players_df['3PT']\n",
    "    players_df_n.loc[:, 'Scoring AVG'] = players_df['3PTA']\n",
    "    players_df_n.loc[:, 'OFF'] = players_df['3PT%']\n",
    "    players_df_n.loc[:, 'DEF'] = players_df['FTM']\n",
    "    players_df_n.loc[:, 'Rebounds TOT'] = players_df['FTA']\n",
    "    players_df_n.loc[:, 'Rebounds AVG'] = players_df['FT%']\n",
    "    players_df_n.loc[:, 'PF'] = players_df['PTS']\n",
    "    players_df_n.loc[:, 'AST'] = players_df['Scoring AVG']\n",
    "    players_df_n.loc[:, 'TO'] = players_df['OFF']\n",
    "    players_df_n.loc[:, 'STL'] = players_df['DEF']\n",
    "    players_df_n.loc[:, 'BLK'] = players_df['Rebounds TOT']\n",
    "    players_df_n.loc[:, 'Bio Link'] = players_df['Rebounds AVG']\n",
    "    desired_order = [\n",
    "        '#', 'Player', 'GP', 'GS',\n",
    "        'Minutes TOT', 'Minutes AVG', 'FGM', 'FGA', 'FG%',\n",
    "        '3PT', '3PTA', '3PT%', 'FTM', 'FTA', 'FT%',\n",
    "        'PTS', 'Scoring AVG', 'OFF', 'DEF',\n",
    "        'Rebounds TOT', 'Rebounds AVG', 'PF', 'AST', 'TO', 'STL', 'BLK', 'Bio Link'\n",
    "    ]\n",
    "\n",
    "    players_df_n = players_df_n[desired_order]\n",
    "    return(players_df_n)\n",
    "new_df = fix_df(players_df)\n",
    "print(\"Actual columns in DataFrame:\", list(new_df.columns))\n"
   ]
  }
 ],
 "metadata": {
  "kernelspec": {
   "display_name": "Python 3",
   "language": "python",
   "name": "python3"
  },
  "language_info": {
   "codemirror_mode": {
    "name": "ipython",
    "version": 3
   },
   "file_extension": ".py",
   "mimetype": "text/x-python",
   "name": "python",
   "nbconvert_exporter": "python",
   "pygments_lexer": "ipython3",
   "version": "3.11.9"
  }
 },
 "nbformat": 4,
 "nbformat_minor": 5
}
