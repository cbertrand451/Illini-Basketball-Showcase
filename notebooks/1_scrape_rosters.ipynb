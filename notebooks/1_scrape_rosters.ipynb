{
 "cells": [
  {
   "cell_type": "markdown",
   "id": "9f0d3d80",
   "metadata": {},
   "source": [
    "# Scraping the Player Rosters\n",
    "### The Goal:\n",
    "Scrape the website to build a json file that holds each player name as the key. The values will be the player's dashboard url, and a list of the years they were on the team."
   ]
  },
  {
   "cell_type": "markdown",
   "id": "21ab28d2",
   "metadata": {},
   "source": [
    "## Imports"
   ]
  },
  {
   "cell_type": "code",
   "execution_count": 2,
   "id": "ba7fa173",
   "metadata": {},
   "outputs": [],
   "source": [
    "# imports \n",
    "\n",
    "from bs4 import BeautifulSoup\n",
    "import requests\n",
    "from urllib.parse import urljoin\n",
    "import json\n",
    "import re\n"
   ]
  },
  {
   "cell_type": "markdown",
   "id": "37910f60",
   "metadata": {},
   "source": [
    "## Player Dictionary\n",
    "Creating the player dictionary with BeautifulSoup\n",
    "\n",
    "Minor AI help to figure out syntax of BeautifulSoup and html access"
   ]
  },
  {
   "cell_type": "code",
   "execution_count": 3,
   "id": "e5f29523",
   "metadata": {},
   "outputs": [],
   "source": [
    "## original url for the rosters\n",
    "base_url = \"https://fightingillini.com/sports/mens-basketball/roster\"\n",
    "res = requests.get(base_url)\n",
    "soup = BeautifulSoup(res.text, \"html.parser\")\n",
    "# this is the tag with the dropdown menu for all the rosters\n",
    "select_tag = soup.find(\"select\", id=\"ddl_past_rosters\")\n",
    "options = select_tag.find_all(\"option\") if select_tag else []\n",
    "\n",
    "season_dict = {}\n",
    "player_dict = {}\n",
    "no_names = []\n",
    "base_url = \"https://fightingillini.com\"\n",
    "count = 0\n",
    "# for option in rosters\n",
    "for option in options:\n",
    "    # ex. 2024-25\n",
    "    season_name = option.get_text(strip=True)[0:7]\n",
    "    # ex. /sports/mens-basketball/roster/2024-25\n",
    "    relative_url = option.get(\"value\")\n",
    "    ## if i need a dictionary of the roster urls, do it here \n",
    "    \n",
    "    if season_name:\n",
    "        full_url = urljoin(base_url, relative_url)\n",
    "    season_dict[season_name] = base_url + \"/sports/mens-basketball/stats/\" + season_name\n",
    "    res = requests.get(full_url)\n",
    "    soup = BeautifulSoup(res.text, \"html.parser\")    \n",
    "\n",
    "    \n",
    "    count += 1\n",
    "    for li in soup.find_all(\"li\", class_=\"sidearm-roster-player\"):\n",
    "    # Get the profile URL from the data attribute\n",
    "        relative_url = li.get(\"data-player-url\")\n",
    "        if relative_url:\n",
    "            full_url = urljoin(base_url, relative_url)\n",
    "        else:\n",
    "         full_url = None\n",
    "\n",
    "    # Find the <a> tag that has the player's name (not \"Full Bio\")\n",
    "        name_tag = li.select_one(\"h3 > a\")\n",
    "        if not name_tag or not name_tag.text.strip():\n",
    "            no_names.append(full_url)\n",
    "            continue\n",
    "        if name_tag and full_url:\n",
    "            player_name = name_tag.text.strip()\n",
    "            # I needed to check if theres already a year, cause then I'll just append instead of add a new person\n",
    "            # remove this once the new year comes out\n",
    "            if (player_name in player_dict) and (len(player_dict[player_name][1]) > 0):\n",
    "                if '26' not in season_name:\n",
    "                    player_dict[player_name][1].append(season_name)\n",
    "            else:\n",
    "                if '26' not in season_name:\n",
    "                    player_dict[player_name] = [full_url, [season_name]]\n",
    "\n",
    "\n",
    "            \n",
    "    \n"
   ]
  },
  {
   "cell_type": "markdown",
   "id": "982b453e",
   "metadata": {},
   "source": [
    "## Product\n",
    "Displaying the Player Dictionary"
   ]
  },
  {
   "cell_type": "code",
   "execution_count": 5,
   "id": "555548b1",
   "metadata": {},
   "outputs": [
    {
     "data": {
      "text/plain": [
       "['https://fightingillini.com/sports/mens-basketball/roster/coleman-hawkins/13955',\n",
       " ['2023-24', '2022-23', '2021-22', '2020-21']]"
      ]
     },
     "execution_count": 5,
     "metadata": {},
     "output_type": "execute_result"
    }
   ],
   "source": [
    "player_dict['Coleman Hawkins']"
   ]
  },
  {
   "cell_type": "markdown",
   "id": "5d18498a",
   "metadata": {},
   "source": [
    "## Send to file\n",
    "creating a json file out of the dictionary so that it can be iterated through and used for the Player Dashboard Page on the app"
   ]
  },
  {
   "cell_type": "code",
   "execution_count": null,
   "id": "2843b435",
   "metadata": {},
   "outputs": [],
   "source": [
    "import os\n",
    "output_dir = \"data/processed\"\n",
    "\n",
    "os.makedirs(output_dir, exist_ok=True)\n",
    "file_path = os.path.join(output_dir, 'player_list.json')\n",
    "with open(file_path, 'w') as f:\n",
    "    json.dump(player_dict, f, indent=4)"
   ]
  }
 ],
 "metadata": {
  "kernelspec": {
   "display_name": "Python 3",
   "language": "python",
   "name": "python3"
  },
  "language_info": {
   "codemirror_mode": {
    "name": "ipython",
    "version": 3
   },
   "file_extension": ".py",
   "mimetype": "text/x-python",
   "name": "python",
   "nbconvert_exporter": "python",
   "pygments_lexer": "ipython3",
   "version": "3.11.9"
  }
 },
 "nbformat": 4,
 "nbformat_minor": 5
}
